{
 "cells": [
  {
   "cell_type": "markdown",
   "metadata": {},
   "source": [
    "# Basic Python Code:\n"
   ]
  },
  {
   "cell_type": "markdown",
   "metadata": {},
   "source": [
    "## Using Basic Arithmetic Operators on two numbers:"
   ]
  },
  {
   "cell_type": "code",
   "execution_count": 1,
   "metadata": {},
   "outputs": [
    {
     "name": "stdout",
     "output_type": "stream",
     "text": [
      "Enter a number:5\n",
      "Enter a number:4\n",
      "5 4\n"
     ]
    }
   ],
   "source": [
    "a = int(input('Enter a number:'))\n",
    "b = int(input('Enter a number:'))\n",
    "print(a,b)"
   ]
  },
  {
   "cell_type": "code",
   "execution_count": 2,
   "metadata": {},
   "outputs": [
    {
     "name": "stdout",
     "output_type": "stream",
     "text": [
      "sum:\n",
      "9\n",
      "difference:\n",
      "1\n",
      "product:\n",
      "20\n",
      "division:\n",
      "1.25\n"
     ]
    }
   ],
   "source": [
    "print('sum:')\n",
    "print(a + b)\n",
    "print('difference:')\n",
    "print(a - b)\n",
    "print('product:')\n",
    "print(a * b)\n",
    "print('division:')\n",
    "print(a / b)"
   ]
  },
  {
   "cell_type": "markdown",
   "metadata": {},
   "source": [
    "## Creating two arrays and performing operations."
   ]
  },
  {
   "cell_type": "code",
   "execution_count": 3,
   "metadata": {},
   "outputs": [
    {
     "name": "stdout",
     "output_type": "stream",
     "text": [
      "[5 8 7 9 8]\n",
      "[1 6 4 3 7]\n",
      "sum:\n",
      "[ 6 14 11 12 15]\n",
      "difference:\n",
      "[4 2 3 6 1]\n",
      "product:\n",
      "[ 5 48 28 27 56]\n",
      "division:\n",
      "[5.         1.33333333 1.75       3.         1.14285714]\n"
     ]
    }
   ],
   "source": [
    "from numpy import random\n",
    "x = random.randint(10, size=(5))\n",
    "print(x)\n",
    "\n",
    "y = random.randint(10, size=(5))\n",
    "print(y)\n",
    "\n",
    "print('sum:')\n",
    "print(x + y)\n",
    "print('difference:')\n",
    "print(x - y)\n",
    "print('product:')\n",
    "print(x * y)\n",
    "print('division:')\n",
    "print(x / y)"
   ]
  },
  {
   "cell_type": "markdown",
   "metadata": {},
   "source": [
    "## Using loops to perform operations."
   ]
  },
  {
   "cell_type": "code",
   "execution_count": 4,
   "metadata": {},
   "outputs": [
    {
     "name": "stdout",
     "output_type": "stream",
     "text": [
      "sum:\n",
      "[ 5. 14. 16.  4. 13.]\n",
      "difference:\n",
      "[ 5. 14. 16.  4. 13.  1.  4. -2.  0. -5.]\n",
      "product:\n",
      "[ 5. 14. 16.  4. 13.  1.  4. -2.  0. -5.  6. 45. 63.  4. 36.]\n",
      "division:\n",
      "[ 5.         14.         16.          4.         13.          1.\n",
      "  4.         -2.          0.         -5.          6.         45.\n",
      " 63.          4.         36.          1.5         1.8         0.77777778\n",
      "  1.          0.44444444]\n"
     ]
    }
   ],
   "source": [
    "from numpy import random\n",
    "import numpy as np\n",
    "x = random.randint(10, size=(5))\n",
    "y = random.randint(10, size=(5))\n",
    "z = np.array([])\n",
    "for i in range(1,6):\n",
    "    a = x[i-1] + y[i-1]\n",
    "    z = np.append(z ,[a], axis = 0)\n",
    "print('sum:')\n",
    "print(z)\n",
    "\n",
    "for i in range(1,6):\n",
    "    a = x[i-1] - y[i-1]\n",
    "    z = np.append(z ,[a], axis = 0)\n",
    "print('difference:')\n",
    "print(z)\n",
    "\n",
    "for i in range(1,6):\n",
    "    a = x[i-1] * y[i-1]\n",
    "    z = np.append(z ,[a], axis = 0)\n",
    "print('product:')\n",
    "print(z)\n",
    "\n",
    "for i in range(1,6):\n",
    "    a = x[i-1] / y[i-1]\n",
    "    z = np.append(z ,[a], axis = 0)\n",
    "print('division:')\n",
    "print(z)"
   ]
  },
  {
   "cell_type": "code",
   "execution_count": null,
   "metadata": {},
   "outputs": [],
   "source": []
  }
 ],
 "metadata": {
  "kernelspec": {
   "display_name": "Python 3",
   "language": "python",
   "name": "python3"
  },
  "language_info": {
   "codemirror_mode": {
    "name": "ipython",
    "version": 3
   },
   "file_extension": ".py",
   "mimetype": "text/x-python",
   "name": "python",
   "nbconvert_exporter": "python",
   "pygments_lexer": "ipython3",
   "version": "3.8.3"
  }
 },
 "nbformat": 4,
 "nbformat_minor": 4
}
