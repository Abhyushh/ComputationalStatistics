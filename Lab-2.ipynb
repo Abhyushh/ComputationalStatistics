{
 "cells": [
  {
   "cell_type": "markdown",
   "metadata": {},
   "source": [
    "# LAB ASSIGNMENT - 2"
   ]
  },
  {
   "cell_type": "markdown",
   "metadata": {},
   "source": [
    "### MINI CALCULATOR USING CLASSES IN PYTHON"
   ]
  },
  {
   "cell_type": "code",
   "execution_count": 13,
   "metadata": {},
   "outputs": [],
   "source": [
    "## Creating a class named mini_calc :\n",
    "class mini_cal:\n",
    "    ## Creating a function that will hold different types of operations.\n",
    "    ## __init__(aka dunder init) is a special method in Python classes, it is the constructor method for a class.\n",
    "    def __init__(self,a,b):\n",
    "        self.a = a\n",
    "        self.b = b\n",
    "        self.add = a + b\n",
    "        self.sub = a - b\n",
    "        self.multi = a * b\n",
    "        self.div = a / b\n",
    "        \n",
    "    def addition(self):\n",
    "        ## Sum of two numbers :\n",
    "        print(\"\\nThe sum of two numbers is : {}\\n\".format(self.add))\n",
    "    \n",
    "    def subtraction(self):\n",
    "        ## Difference of two numbers :\n",
    "        print(\"The difference of two numbers is : {}\\n\".format(self.sub))\n",
    "        \n",
    "    def multiplication(self):\n",
    "        ## Multiplication of two numbers :\n",
    "        print(\"the product of two numbers is : {}\\n\".format(self.multi))\n",
    "    \n",
    "    def division(self):\n",
    "        ## Divide two numbers :\n",
    "        print(\"The division of two numbers is : {}\\n\".format(self.div))"
   ]
  },
  {
   "cell_type": "code",
   "execution_count": 14,
   "metadata": {},
   "outputs": [
    {
     "name": "stdout",
     "output_type": "stream",
     "text": [
      "Enter the first number : 10\n",
      "Enter the second number : 5\n",
      "Enter the choice from 1 to 4 :1\n",
      "\n",
      "The sum of two numbers is : 15\n",
      "\n",
      "Enter the choice from 1 to 4 :2\n",
      "The difference of two numbers is : 5\n",
      "\n",
      "Enter the choice from 1 to 4 :3\n",
      "the product of two numbers is : 50\n",
      "\n",
      "Enter the choice from 1 to 4 :4\n",
      "The division of two numbers is : 2.0\n",
      "\n"
     ]
    }
   ],
   "source": [
    "## Performing simple calculations on two numbers :\n",
    "a = int(input(\"Enter the first number : \"))\n",
    "b = int(input(\"Enter the second number : \"))\n",
    "cal = mini_cal(a, b)\n",
    "\n",
    "for i in range(1,5):\n",
    "    choice = int(input(\"Enter the choice from 1 to 4 :\"))\n",
    "    \n",
    "    if(choice == 1):\n",
    "        cal.addition()\n",
    "        \n",
    "    if(choice == 2):\n",
    "        cal.subtraction()\n",
    "        \n",
    "    if(choice == 3):\n",
    "        cal.multiplication()\n",
    "        \n",
    "    if(choice == 4):\n",
    "        cal.division()\n",
    "    else:\n",
    "        pass"
   ]
  },
  {
   "cell_type": "code",
   "execution_count": null,
   "metadata": {},
   "outputs": [],
   "source": []
  },
  {
   "cell_type": "code",
   "execution_count": null,
   "metadata": {},
   "outputs": [],
   "source": []
  },
  {
   "cell_type": "code",
   "execution_count": null,
   "metadata": {},
   "outputs": [],
   "source": []
  }
 ],
 "metadata": {
  "kernelspec": {
   "display_name": "Python 3",
   "language": "python",
   "name": "python3"
  },
  "language_info": {
   "codemirror_mode": {
    "name": "ipython",
    "version": 3
   },
   "file_extension": ".py",
   "mimetype": "text/x-python",
   "name": "python",
   "nbconvert_exporter": "python",
   "pygments_lexer": "ipython3",
   "version": "3.8.3"
  }
 },
 "nbformat": 4,
 "nbformat_minor": 4
}
